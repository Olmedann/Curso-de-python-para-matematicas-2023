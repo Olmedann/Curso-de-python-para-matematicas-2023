{
  "nbformat": 4,
  "nbformat_minor": 0,
  "metadata": {
    "colab": {
      "provenance": [],
      "authorship_tag": "ABX9TyPFX5EsgwkE1sBtrt4IsLMi",
      "include_colab_link": true
    },
    "kernelspec": {
      "name": "python3",
      "display_name": "Python 3"
    },
    "language_info": {
      "name": "python"
    }
  },
  "cells": [
    {
      "cell_type": "markdown",
      "metadata": {
        "id": "view-in-github",
        "colab_type": "text"
      },
      "source": [
        "<a href=\"https://colab.research.google.com/github/Olmedann/Curso-de-python-para-matematicas-2023/blob/main/Numeros_de_Fibonacci_(conjeturas_sobre_potencias).ipynb\" target=\"_parent\"><img src=\"https://colab.research.google.com/assets/colab-badge.svg\" alt=\"Open In Colab\"/></a>"
      ]
    },
    {
      "cell_type": "markdown",
      "source": [
        "Para escribir una función que tenga un argumento obligatorio n y un argumento opcional pot, y que regrese los números de fibonacci menores que n que sean una potencia pot exacta hacemos los siguiente:"
      ],
      "metadata": {
        "id": "EFmT6QDeJZNS"
      }
    },
    {
      "cell_type": "code",
      "execution_count": 1,
      "metadata": {
        "colab": {
          "base_uri": "https://localhost:8080/"
        },
        "id": "ayUeyle9JGG_",
        "outputId": "ffea501f-ef92-43c4-88c9-f4aaa10ab727"
      },
      "outputs": [
        {
          "output_type": "execute_result",
          "data": {
            "text/plain": [
              "[0, 1, 1, 144]"
            ]
          },
          "metadata": {},
          "execution_count": 1
        }
      ],
      "source": [
        "def es_pot(n,k):\n",
        "    return int((n)**(1/k)) ** k == n\n",
        "\n",
        "def potencias_fibonacci(n,pot=2):\n",
        "    fibs = []\n",
        "    a, b = 0, 1\n",
        "    while a < n:\n",
        "        if es_pot(a,pot):\n",
        "            fibs.append(a)\n",
        "        a, b = b, a+b\n",
        "    return fibs\n",
        "\n",
        "potencias_fibonacci(10**20,2)"
      ]
    },
    {
      "cell_type": "markdown",
      "source": [
        "Observe que si corremos el código anterior obtenemos que los números de Fibonacci que son cuadrados menores que $10^{20}$ son 0,1 y 144, mientras que los cubos que encontramos menores que  $10^{20}$ son 0,1,8. Veamos que si consideramos un número mayor, seguimos obteniendo los mismos números, lo cual permite formular la siguiente conjetura.\n",
        "\n",
        "**Conjetura**: Los únicos números de Fibonacci que son cuadrados son 0,1 y 144, los únicos cubos son 0,1,8 y los únicos cuartos son 0,1.\n",
        "Dicha conjetura ya se ha demostrado y puede encontrar más información al respecto en el siguiente artículo: https://www.sciencedirect.com/science/article/abs/pii/B9780080119908500095$10^{20}$\n"
      ],
      "metadata": {
        "id": "jUSreQckJ1FF"
      }
    }
  ]
}