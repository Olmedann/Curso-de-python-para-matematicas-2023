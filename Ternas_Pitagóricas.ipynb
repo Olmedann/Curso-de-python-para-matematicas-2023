{
  "nbformat": 4,
  "nbformat_minor": 0,
  "metadata": {
    "colab": {
      "provenance": [],
      "authorship_tag": "ABX9TyODYAdeYeEOpuER3h2Ouvkv",
      "include_colab_link": true
    },
    "kernelspec": {
      "name": "python3",
      "display_name": "Python 3"
    },
    "language_info": {
      "name": "python"
    }
  },
  "cells": [
    {
      "cell_type": "markdown",
      "metadata": {
        "id": "view-in-github",
        "colab_type": "text"
      },
      "source": [
        "<a href=\"https://colab.research.google.com/github/Olmedann/Curso-de-python-para-matematicas-2023/blob/main/Ternas_Pitag%C3%B3ricas.ipynb\" target=\"_parent\"><img src=\"https://colab.research.google.com/assets/colab-badge.svg\" alt=\"Open In Colab\"/></a>"
      ]
    },
    {
      "cell_type": "markdown",
      "source": [
        " Una Terna Pitagórica es aquella que se conforma con los números **x,y,z** tales que $x^2+y^2=z^2$. Un claro ejemplo es la terna $(3,4,5)$ pues $3^2+4^2=5^2$."
      ],
      "metadata": {
        "id": "BQArKifDOcYS"
      }
    },
    {
      "cell_type": "markdown",
      "source": [
        "**Ejercicio:**\n",
        "Considere el problema de clasificar las ternas Pitagóricas $(x,y,z)$ tales que $(x\\leq 1000,y\\leq 1000,z\\leq 1000),$ usando compresiones."
      ],
      "metadata": {
        "id": "0Nh74JVOPaTz"
      }
    },
    {
      "cell_type": "markdown",
      "source": [],
      "metadata": {
        "id": "D1P7tF5_g_Nt"
      }
    },
    {
      "cell_type": "markdown",
      "source": [
        "**Solución:**"
      ],
      "metadata": {
        "id": "FvpCmPzpQDmg"
      }
    },
    {
      "cell_type": "code",
      "source": [
        "from itertools import combinations\n",
        "ternas = []\n",
        "for i in range(2,101):\n",
        "    for j in range(2,101):\n",
        "        for k in range (2,101):\n",
        "            if i**2+j**2==k**2:\n",
        "                ternas.append([i,j,k])\n",
        "\n",
        "\n"
      ],
      "metadata": {
        "id": "pzVEsFu7ScsR"
      },
      "execution_count": null,
      "outputs": []
    },
    {
      "cell_type": "code",
      "source": [
        "ternas"
      ],
      "metadata": {
        "colab": {
          "base_uri": "https://localhost:8080/"
        },
        "id": "wkppaGVrZ4PP",
        "outputId": "f7b07cdf-b3f1-4077-a5dd-0350797c4b75"
      },
      "execution_count": null,
      "outputs": [
        {
          "output_type": "execute_result",
          "data": {
            "text/plain": [
              "[[3, 4, 5],\n",
              " [4, 3, 5],\n",
              " [5, 12, 13],\n",
              " [6, 8, 10],\n",
              " [7, 24, 25],\n",
              " [8, 6, 10],\n",
              " [8, 15, 17],\n",
              " [9, 12, 15],\n",
              " [9, 40, 41],\n",
              " [10, 24, 26],\n",
              " [11, 60, 61],\n",
              " [12, 5, 13],\n",
              " [12, 9, 15],\n",
              " [12, 16, 20],\n",
              " [12, 35, 37],\n",
              " [13, 84, 85],\n",
              " [14, 48, 50],\n",
              " [15, 8, 17],\n",
              " [15, 20, 25],\n",
              " [15, 36, 39],\n",
              " [16, 12, 20],\n",
              " [16, 30, 34],\n",
              " [16, 63, 65],\n",
              " [18, 24, 30],\n",
              " [18, 80, 82],\n",
              " [20, 15, 25],\n",
              " [20, 21, 29],\n",
              " [20, 48, 52],\n",
              " [21, 20, 29],\n",
              " [21, 28, 35],\n",
              " [21, 72, 75],\n",
              " [24, 7, 25],\n",
              " [24, 10, 26],\n",
              " [24, 18, 30],\n",
              " [24, 32, 40],\n",
              " [24, 45, 51],\n",
              " [24, 70, 74],\n",
              " [25, 60, 65],\n",
              " [27, 36, 45],\n",
              " [28, 21, 35],\n",
              " [28, 45, 53],\n",
              " [28, 96, 100],\n",
              " [30, 16, 34],\n",
              " [30, 40, 50],\n",
              " [30, 72, 78],\n",
              " [32, 24, 40],\n",
              " [32, 60, 68],\n",
              " [33, 44, 55],\n",
              " [33, 56, 65],\n",
              " [35, 12, 37],\n",
              " [35, 84, 91],\n",
              " [36, 15, 39],\n",
              " [36, 27, 45],\n",
              " [36, 48, 60],\n",
              " [36, 77, 85],\n",
              " [39, 52, 65],\n",
              " [39, 80, 89],\n",
              " [40, 9, 41],\n",
              " [40, 30, 50],\n",
              " [40, 42, 58],\n",
              " [40, 75, 85],\n",
              " [42, 40, 58],\n",
              " [42, 56, 70],\n",
              " [44, 33, 55],\n",
              " [45, 24, 51],\n",
              " [45, 28, 53],\n",
              " [45, 60, 75],\n",
              " [48, 14, 50],\n",
              " [48, 20, 52],\n",
              " [48, 36, 60],\n",
              " [48, 55, 73],\n",
              " [48, 64, 80],\n",
              " [51, 68, 85],\n",
              " [52, 39, 65],\n",
              " [54, 72, 90],\n",
              " [55, 48, 73],\n",
              " [56, 33, 65],\n",
              " [56, 42, 70],\n",
              " [57, 76, 95],\n",
              " [60, 11, 61],\n",
              " [60, 25, 65],\n",
              " [60, 32, 68],\n",
              " [60, 45, 75],\n",
              " [60, 63, 87],\n",
              " [60, 80, 100],\n",
              " [63, 16, 65],\n",
              " [63, 60, 87],\n",
              " [64, 48, 80],\n",
              " [65, 72, 97],\n",
              " [68, 51, 85],\n",
              " [70, 24, 74],\n",
              " [72, 21, 75],\n",
              " [72, 30, 78],\n",
              " [72, 54, 90],\n",
              " [72, 65, 97],\n",
              " [75, 40, 85],\n",
              " [76, 57, 95],\n",
              " [77, 36, 85],\n",
              " [80, 18, 82],\n",
              " [80, 39, 89],\n",
              " [80, 60, 100],\n",
              " [84, 13, 85],\n",
              " [84, 35, 91],\n",
              " [96, 28, 100]]"
            ]
          },
          "metadata": {},
          "execution_count": 9
        }
      ]
    },
    {
      "cell_type": "markdown",
      "source": [
        "**Nota:** Solo lo hicimos para x,y,z menores o iguales que 100 pues con 1000 se tardaba demasiado."
      ],
      "metadata": {
        "id": "1U5h4kF4Z-I4"
      }
    }
  ]
}