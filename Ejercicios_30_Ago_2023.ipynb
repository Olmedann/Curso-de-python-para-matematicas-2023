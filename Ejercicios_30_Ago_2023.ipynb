{
  "nbformat": 4,
  "nbformat_minor": 0,
  "metadata": {
    "colab": {
      "provenance": [],
      "authorship_tag": "ABX9TyMfgVbOffplXJ4HL4nFg8vz",
      "include_colab_link": true
    },
    "kernelspec": {
      "name": "python3",
      "display_name": "Python 3"
    },
    "language_info": {
      "name": "python"
    }
  },
  "cells": [
    {
      "cell_type": "markdown",
      "metadata": {
        "id": "view-in-github",
        "colab_type": "text"
      },
      "source": [
        "<a href=\"https://colab.research.google.com/github/Olmedann/Curso-de-python-para-matematicas-2023/blob/main/Ejercicios_30_Ago_2023.ipynb\" target=\"_parent\"><img src=\"https://colab.research.google.com/assets/colab-badge.svg\" alt=\"Open In Colab\"/></a>"
      ]
    },
    {
      "cell_type": "markdown",
      "source": [
        "**Ejercicio:**  \n",
        "Define una clase que llame Perro, que tenga un atributo nombre y un método sonido (sin argumentos). Cuando se corra el método sonido en una instancia de la clase Perro, se debe regresar la cadena \"Guau\". Hacer una clase Gato análoga."
      ],
      "metadata": {
        "id": "I6INDdf6Zy7f"
      }
    },
    {
      "cell_type": "code",
      "execution_count": 8,
      "metadata": {
        "colab": {
          "base_uri": "https://localhost:8080/"
        },
        "id": "bLvdcIxfZGpQ",
        "outputId": "a66cd32b-ad19-4548-cc79-41e4230955c3"
      },
      "outputs": [
        {
          "output_type": "execute_result",
          "data": {
            "text/plain": [
              "('Guau', 'Bamban', 'negro', ' 5kg')"
            ]
          },
          "metadata": {},
          "execution_count": 8
        }
      ],
      "source": [
        "class Perro:\n",
        "    def __init__(self, nombre,color,peso):\n",
        "        self.nombre = nombre\n",
        "        self.color = color\n",
        "        self.peso = peso\n",
        "    def sonido(self):\n",
        "        return \"Guau\"\n",
        "\n",
        "a=Perro(\"Bamban\",\"negro\", \" 5kg\")\n",
        "b=Perro(\"Doly\",\"Blanca\", \"7kg\")\n",
        "c=Perro(\"Bombo\",\"negro\",\"8kg\")\n",
        "a.sonido(), a.nombre, a.color, a.peso\n"
      ]
    },
    {
      "cell_type": "code",
      "source": [
        "b.sonido(), b.nombre"
      ],
      "metadata": {
        "colab": {
          "base_uri": "https://localhost:8080/"
        },
        "id": "BOfettwDakQz",
        "outputId": "ff2aa865-af5b-42ff-9a2c-b9268222b6b4"
      },
      "execution_count": 17,
      "outputs": [
        {
          "output_type": "execute_result",
          "data": {
            "text/plain": [
              "('Guau', 'Doly')"
            ]
          },
          "metadata": {},
          "execution_count": 17
        }
      ]
    },
    {
      "cell_type": "markdown",
      "source": [
        "Ahora crearemos una clase para Gatos"
      ],
      "metadata": {
        "id": "62xuS5LVfNlO"
      }
    },
    {
      "cell_type": "code",
      "source": [
        "class Gato:\n",
        "    def __init__(self, nombre,color,peso,color_de_ojos):\n",
        "        self.nombre = nombre\n",
        "        self.color = color\n",
        "        self.peso = peso\n",
        "        self.color_de_ojos = color_de_ojos\n",
        "    def sonido(self):\n",
        "        return \"Miau\"\n",
        "\n",
        "a=Gato(\"Gordo\",\"Pinto\",\"3kg\",\"verdes\")\n",
        "b=Gato(\"Güera\",\"Blanca\",\"5k\",\"verdes\")\n",
        "c=Gato(\"Perseo\",\"Blanco\",\"5kg\",\"azules\")"
      ],
      "metadata": {
        "id": "dinPZfFDfWP_"
      },
      "execution_count": 22,
      "outputs": []
    },
    {
      "cell_type": "code",
      "source": [
        "c.sonido(), c.nombre, c.color"
      ],
      "metadata": {
        "colab": {
          "base_uri": "https://localhost:8080/"
        },
        "id": "gY--0z08g8Nh",
        "outputId": "c10f694e-1ee5-4e94-c21b-ba76ab022826"
      },
      "execution_count": 23,
      "outputs": [
        {
          "output_type": "execute_result",
          "data": {
            "text/plain": [
              "('Miau', 'Perseo', 'Blanco')"
            ]
          },
          "metadata": {},
          "execution_count": 23
        }
      ]
    },
    {
      "cell_type": "markdown",
      "source": [
        "Posteriormente creamos una función para definir el tipo de animal."
      ],
      "metadata": {
        "id": "n2EdOiEshWFT"
      }
    },
    {
      "cell_type": "code",
      "source": [
        "def Tipo_Animal(animal):\n",
        "    if type(animal)== Perro:\n",
        "        return \"Es un Perro\"\n",
        "    else:\n",
        "        return \"No es un Perro\"\n",
        "\n"
      ],
      "metadata": {
        "id": "VMaWbJKPhjjL"
      },
      "execution_count": 26,
      "outputs": []
    },
    {
      "cell_type": "code",
      "source": [
        "Tipo_Animal(c)"
      ],
      "metadata": {
        "colab": {
          "base_uri": "https://localhost:8080/",
          "height": 35
        },
        "id": "Vs2zUDhUh8fm",
        "outputId": "543579cb-bc1f-40bc-e873-137b2b99c208"
      },
      "execution_count": 27,
      "outputs": [
        {
          "output_type": "execute_result",
          "data": {
            "text/plain": [
              "'No es un Perro'"
            ],
            "application/vnd.google.colaboratory.intrinsic+json": {
              "type": "string"
            }
          },
          "metadata": {},
          "execution_count": 27
        }
      ]
    }
  ]
}