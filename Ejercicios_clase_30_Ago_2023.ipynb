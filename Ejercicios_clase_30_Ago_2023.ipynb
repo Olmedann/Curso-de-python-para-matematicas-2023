{
  "nbformat": 4,
  "nbformat_minor": 0,
  "metadata": {
    "colab": {
      "provenance": [],
      "authorship_tag": "ABX9TyMGZZ955ifXWHuNp/2Dx3qA",
      "include_colab_link": true
    },
    "kernelspec": {
      "name": "python3",
      "display_name": "Python 3"
    },
    "language_info": {
      "name": "python"
    }
  },
  "cells": [
    {
      "cell_type": "markdown",
      "metadata": {
        "id": "view-in-github",
        "colab_type": "text"
      },
      "source": [
        "<a href=\"https://colab.research.google.com/github/Olmedann/Curso-de-python-para-matematicas-2023/blob/main/Ejercicios_clase_30_Ago_2023.ipynb\" target=\"_parent\"><img src=\"https://colab.research.google.com/assets/colab-badge.svg\" alt=\"Open In Colab\"/></a>"
      ]
    },
    {
      "cell_type": "markdown",
      "source": [
        "Define una función tal que, dados argumentos: cantidad y rango (dos enteros positivos), regrese un conjunto con cantidad números enteros aleatorios, que pueden estar entre -rango y rango.  \n",
        "**Solución:**"
      ],
      "metadata": {
        "id": "OF2BcyapHNFC"
      }
    },
    {
      "cell_type": "code",
      "execution_count": 8,
      "metadata": {
        "id": "k1-8kaU0DxAD"
      },
      "outputs": [],
      "source": [
        "from random import randint\n",
        "def aleatorios(cantidad, rango):\n",
        "    return {randint(-rango,rango) for i in range(cantidad)}\n"
      ]
    },
    {
      "cell_type": "code",
      "source": [
        "aleatorios(5,3)"
      ],
      "metadata": {
        "colab": {
          "base_uri": "https://localhost:8080/"
        },
        "id": "lXsxfGFAFKgj",
        "outputId": "723fa095-d24c-4d65-a1e0-6000a8d6d134"
      },
      "execution_count": 9,
      "outputs": [
        {
          "output_type": "execute_result",
          "data": {
            "text/plain": [
              "{-3, -2, -1, 3}"
            ]
          },
          "metadata": {},
          "execution_count": 9
        }
      ]
    },
    {
      "cell_type": "markdown",
      "source": [
        "**Explicación:**\n",
        "La función anterior busca un número aleatorio en el intervalo **(-rango,rango)**, pero como queremos un conjunto con una cantidad de números enteros agregamos **for i in range(cantidad)**."
      ],
      "metadata": {
        "id": "4UAX9N3eRvCH"
      }
    },
    {
      "cell_type": "markdown",
      "source": [
        "Define ahora una función tal que, dado un conjunto de números enteros, regrese un subconjunto del conjunto tal que la suma de los elementos del subconjunto sea 0. Si no existe tal conjunto, la función debe regresar False.  \n",
        "**Solución:**"
      ],
      "metadata": {
        "id": "V0EQx67yHh9K"
      }
    },
    {
      "cell_type": "code",
      "source": [
        "from itertools import combinations\n",
        "def subconjuntos(conjunto):\n",
        "    todos = []\n",
        "    for i in range(1,len(conjunto)+1):\n",
        "        for sub in combinations(conjunto, i):\n",
        "           todos.append(sub)\n",
        "           subs=set(todos)\n",
        "           for sub in subs:\n",
        "                if sum(sub)==0:\n",
        "                    return set(sub)\n",
        "    return False"
      ],
      "metadata": {
        "id": "wHZVVRdFG0yG"
      },
      "execution_count": 27,
      "outputs": []
    },
    {
      "cell_type": "code",
      "source": [
        "subconjuntos({-3,-2,-7,-3,3})"
      ],
      "metadata": {
        "colab": {
          "base_uri": "https://localhost:8080/"
        },
        "id": "nuKSQYuXLs9p",
        "outputId": "c5d72bf7-9c22-4b08-f05f-e04c7bc32306"
      },
      "execution_count": 28,
      "outputs": [
        {
          "output_type": "execute_result",
          "data": {
            "text/plain": [
              "{-3, 3}"
            ]
          },
          "metadata": {},
          "execution_count": 28
        }
      ]
    },
    {
      "cell_type": "markdown",
      "source": [
        "**Explicación:**\n",
        "En la función anterior primero hacemos un conjunto con todas las combinaciones de los elementos del conjunto dado (tuplas), esto para poder utilizar **sum**, luego utilizamos dos ciclos para que revise todos los elementos del nuevo conjunto e imprima cual de ellos satisface la condición de que la suma de sus entradas sea 0."
      ],
      "metadata": {
        "id": "iOGTGnM1RCkI"
      }
    },
    {
      "cell_type": "markdown",
      "source": [
        "**Ejercicios Opcionales**"
      ],
      "metadata": {
        "id": "Vpohml3rT_4f"
      }
    },
    {
      "cell_type": "markdown",
      "source": [
        "Define una función tal que, dado un conjunto de números enteros, regrese dos subconjuntos diferentes del conjunto tal que la suma de los elementos de los subconjuntos sea la misma. Si no existen tales conjuntos, la función debe regresar False.\n",
        "\n"
      ],
      "metadata": {
        "id": "0I0iGlOkUoZy"
      }
    },
    {
      "cell_type": "code",
      "source": [],
      "metadata": {
        "id": "n_f4GPI0U1kP"
      },
      "execution_count": null,
      "outputs": []
    }
  ]
}